{
 "cells": [
  {
   "cell_type": "code",
   "execution_count": 33,
   "id": "145321f1",
   "metadata": {},
   "outputs": [],
   "source": [
    "import pandas as pd\n",
    "import numpy as np\n",
    "import matplotlib.pyplot as plt\n",
    "from datetime import date as dt\n",
    "\n",
    "#not sure how to connect the dataset in the Github Repo to the Jupiter Notebook\n",
    "file = '.\\Boston Airbnb Data.csv'\n",
    "\n",
    "original_df = pd.read_csv(file,index_col=0)\n",
    "\n",
    "#Limit to potential columns of interest\n",
    "df = original_df[['name','summary','description','transit','neighbourhood_cleansed','zipcode',\n",
    "         'latitude','longitude','room_type','accommodates','bathrooms',\t'bedrooms','beds',\n",
    "         'amenities','price','guests_included','availability_30',\t\n",
    "         'availability_60','availability_90','availability_365','number_of_reviews',\n",
    "         'first_review','review_scores_rating','reviews_per_month']]"
   ]
  },
  {
   "cell_type": "code",
   "execution_count": 31,
   "id": "41c1c516",
   "metadata": {},
   "outputs": [
    {
     "data": {
      "text/plain": [
       "name                      0.000000\n",
       "summary                   0.039888\n",
       "description               0.000000\n",
       "transit                   0.359833\n",
       "neighbourhood_cleansed    0.000000\n",
       "zipcode                   0.010600\n",
       "latitude                  0.000000\n",
       "longitude                 0.000000\n",
       "room_type                 0.000000\n",
       "accommodates              0.000000\n",
       "bathrooms                 0.003905\n",
       "bedrooms                  0.002789\n",
       "beds                      0.002510\n",
       "amenities                 0.000000\n",
       "price                     0.000000\n",
       "guests_included           0.000000\n",
       "availability_30           0.000000\n",
       "availability_60           0.000000\n",
       "availability_90           0.000000\n",
       "availability_365          0.000000\n",
       "number_of_reviews         0.000000\n",
       "first_review              0.210879\n",
       "review_scores_rating      0.226778\n",
       "reviews_per_month         0.210879\n",
       "dtype: float64"
      ]
     },
     "execution_count": 31,
     "metadata": {},
     "output_type": "execute_result"
    }
   ],
   "source": [
    "### Dealing with NAN ###\n",
    "df.isnull().mean()"
   ]
  },
  {
   "cell_type": "markdown",
   "id": "1725634d",
   "metadata": {},
   "source": [
    "### Cleaning Data ###\n",
    "Lets standardize the availaiblity columns and convert them to be Utilization Rate"
   ]
  },
  {
   "cell_type": "code",
   "execution_count": 9,
   "id": "53e1dbde",
   "metadata": {},
   "outputs": [
    {
     "data": {
      "text/plain": [
       "name                       object\n",
       "summary                    object\n",
       "description                object\n",
       "transit                    object\n",
       "neighbourhood_cleansed     object\n",
       "zipcode                    object\n",
       "latitude                  float64\n",
       "longitude                 float64\n",
       "room_type                  object\n",
       "accommodates                int64\n",
       "bathrooms                 float64\n",
       "bedrooms                  float64\n",
       "beds                      float64\n",
       "amenities                  object\n",
       "price                      object\n",
       "guests_included             int64\n",
       "availability_30             int64\n",
       "availability_60             int64\n",
       "availability_90             int64\n",
       "availability_365            int64\n",
       "number_of_reviews           int64\n",
       "first_review               object\n",
       "review_scores_rating      float64\n",
       "reviews_per_month         float64\n",
       "dtype: object"
      ]
     },
     "execution_count": 9,
     "metadata": {},
     "output_type": "execute_result"
    }
   ],
   "source": [
    "#Look at the data types in the dataset\n",
    "df.dtypes\n",
    "\n",
    "#notice that price is an object rather than a float"
   ]
  },
  {
   "cell_type": "code",
   "execution_count": 10,
   "id": "519c1d87",
   "metadata": {},
   "outputs": [
    {
     "data": {
      "text/plain": [
       "id\n",
       "12147973    $250.00\n",
       "3075044      $65.00\n",
       "6976         $65.00\n",
       "1436513      $75.00\n",
       "7651065      $79.00\n",
       "Name: price, dtype: object"
      ]
     },
     "execution_count": 10,
     "metadata": {},
     "output_type": "execute_result"
    }
   ],
   "source": [
    "df['price'].head()"
   ]
  },
  {
   "cell_type": "code",
   "execution_count": 13,
   "id": "8a207178",
   "metadata": {},
   "outputs": [
    {
     "name": "stderr",
     "output_type": "stream",
     "text": [
      "<ipython-input-13-53c30cfb2232>:7: SettingWithCopyWarning: \n",
      "A value is trying to be set on a copy of a slice from a DataFrame.\n",
      "Try using .loc[row_indexer,col_indexer] = value instead\n",
      "\n",
      "See the caveats in the documentation: https://pandas.pydata.org/pandas-docs/stable/user_guide/indexing.html#returning-a-view-versus-a-copy\n",
      "  df['price'] = df['price'].apply(remove_sign)\n"
     ]
    },
    {
     "data": {
      "text/plain": [
       "id\n",
       "12147973    250.0\n",
       "3075044      65.0\n",
       "6976         65.0\n",
       "1436513      75.0\n",
       "7651065      79.0\n",
       "Name: price, dtype: float64"
      ]
     },
     "execution_count": 13,
     "metadata": {},
     "output_type": "execute_result"
    }
   ],
   "source": [
    "#remove the '$'' and the ',' price\n",
    "def remove_sign(col):\n",
    "    col = col.replace('$','')\n",
    "    col = col.replace(',','')\n",
    "    return float(col)\n",
    "\n",
    "df['price'] = df['price'].apply(remove_sign)\n",
    "df['price'].head()"
   ]
  },
  {
   "cell_type": "code",
   "execution_count": 14,
   "id": "fc0bbca3",
   "metadata": {},
   "outputs": [
    {
     "name": "stderr",
     "output_type": "stream",
     "text": [
      "<ipython-input-14-218dce0833e1>:2: SettingWithCopyWarning: \n",
      "A value is trying to be set on a copy of a slice from a DataFrame.\n",
      "Try using .loc[row_indexer,col_indexer] = value instead\n",
      "\n",
      "See the caveats in the documentation: https://pandas.pydata.org/pandas-docs/stable/user_guide/indexing.html#returning-a-view-versus-a-copy\n",
      "  df['utilization_30'] = df['availability_30'].apply(lambda x: 1 - (x/30))\n",
      "<ipython-input-14-218dce0833e1>:3: SettingWithCopyWarning: \n",
      "A value is trying to be set on a copy of a slice from a DataFrame.\n",
      "Try using .loc[row_indexer,col_indexer] = value instead\n",
      "\n",
      "See the caveats in the documentation: https://pandas.pydata.org/pandas-docs/stable/user_guide/indexing.html#returning-a-view-versus-a-copy\n",
      "  df['utilization_60'] = df['availability_60'].apply(lambda x: 1 - (x/60))\n",
      "<ipython-input-14-218dce0833e1>:4: SettingWithCopyWarning: \n",
      "A value is trying to be set on a copy of a slice from a DataFrame.\n",
      "Try using .loc[row_indexer,col_indexer] = value instead\n",
      "\n",
      "See the caveats in the documentation: https://pandas.pydata.org/pandas-docs/stable/user_guide/indexing.html#returning-a-view-versus-a-copy\n",
      "  df['utilization_90'] = df['availability_90'].apply(lambda x: 1 - (x/90))\n",
      "<ipython-input-14-218dce0833e1>:5: SettingWithCopyWarning: \n",
      "A value is trying to be set on a copy of a slice from a DataFrame.\n",
      "Try using .loc[row_indexer,col_indexer] = value instead\n",
      "\n",
      "See the caveats in the documentation: https://pandas.pydata.org/pandas-docs/stable/user_guide/indexing.html#returning-a-view-versus-a-copy\n",
      "  df['utilization_365'] = df['availability_365'].apply(lambda x: 1 - (x/365))\n"
     ]
    }
   ],
   "source": [
    "#standardizing availability and covert to Utilization Rate\n",
    "df['utilization_30'] = df['availability_30'].apply(lambda x: 1 - (x/30))\n",
    "df['utilization_60'] = df['availability_60'].apply(lambda x: 1 - (x/60))\n",
    "df['utilization_90'] = df['availability_90'].apply(lambda x: 1 - (x/90))\n",
    "df['utilization_365'] = df['availability_365'].apply(lambda x: 1 - (x/365))"
   ]
  },
  {
   "cell_type": "markdown",
   "id": "08756763",
   "metadata": {},
   "source": [
    "\n",
    "### Neighbourhood Analysis ###\n",
    "Lets compare neighbourhoods using some metrics from the dataset"
   ]
  },
  {
   "cell_type": "code",
   "execution_count": 15,
   "id": "cde77426",
   "metadata": {},
   "outputs": [
    {
     "data": {
      "text/plain": [
       "Leather District             5\n",
       "Longwood Medical Area        9\n",
       "Bay Village                 24\n",
       "Mattapan                    24\n",
       "Hyde Park                   31\n",
       "West Roxbury                46\n",
       "West End                    49\n",
       "Roslindale                  56\n",
       "Chinatown                   71\n",
       "South Boston Waterfront     83\n",
       "Charlestown                111\n",
       "Mission Hill               124\n",
       "North End                  143\n",
       "Roxbury                    144\n",
       "East Boston                150\n",
       "Downtown                   172\n",
       "South Boston               174\n",
       "Brighton                   185\n",
       "Beacon Hill                194\n",
       "Allston                    260\n",
       "Dorchester                 269\n",
       "Fenway                     290\n",
       "Back Bay                   302\n",
       "South End                  326\n",
       "Jamaica Plain              343\n",
       "Name: neighbourhood_cleansed, dtype: int64"
      ]
     },
     "execution_count": 15,
     "metadata": {},
     "output_type": "execute_result"
    }
   ],
   "source": [
    "#how many Airbnbs listings are per neighborhood? Do we need to remove any that are too small of a sample?\n",
    "df['neighbourhood_cleansed'].value_counts().sort_values()"
   ]
  },
  {
   "cell_type": "code",
   "execution_count": 16,
   "id": "4c32dccc",
   "metadata": {},
   "outputs": [
    {
     "name": "stderr",
     "output_type": "stream",
     "text": [
      "C:\\Users\\e085865\\Anaconda3\\lib\\site-packages\\pandas\\core\\indexing.py:1599: SettingWithCopyWarning: \n",
      "A value is trying to be set on a copy of a slice from a DataFrame.\n",
      "Try using .loc[row_indexer,col_indexer] = value instead\n",
      "\n",
      "See the caveats in the documentation: https://pandas.pydata.org/pandas-docs/stable/user_guide/indexing.html#returning-a-view-versus-a-copy\n",
      "  self.obj[key] = infer_fill_value(value)\n",
      "C:\\Users\\e085865\\Anaconda3\\lib\\site-packages\\pandas\\core\\indexing.py:1720: SettingWithCopyWarning: \n",
      "A value is trying to be set on a copy of a slice from a DataFrame.\n",
      "Try using .loc[row_indexer,col_indexer] = value instead\n",
      "\n",
      "See the caveats in the documentation: https://pandas.pydata.org/pandas-docs/stable/user_guide/indexing.html#returning-a-view-versus-a-copy\n",
      "  self._setitem_single_column(loc, value, pi)\n"
     ]
    }
   ],
   "source": [
    "for nb, group in df.groupby('neighbourhood_cleansed'):\n",
    "    count = len(group)\n",
    "    df.loc[group.index,'count'] = count\n",
    "    \n",
    "#Filter out based off your own sample threshold. Original df has 3565 observations\n",
    "#For this analysis, I chose to only look at neighborhoods with atleast 50 listings.\n",
    "over_df = df[df['count'] >= 50] #input the minimum sample size"
   ]
  },
  {
   "cell_type": "code",
   "execution_count": 17,
   "id": "97844794",
   "metadata": {},
   "outputs": [
    {
     "data": {
      "text/plain": [
       "{'whiskers': [<matplotlib.lines.Line2D at 0x1cc4f1bb820>,\n",
       "  <matplotlib.lines.Line2D at 0x1cc4f1bbb80>],\n",
       " 'caps': [<matplotlib.lines.Line2D at 0x1cc4f1bbee0>,\n",
       "  <matplotlib.lines.Line2D at 0x1cc4f1d9280>],\n",
       " 'boxes': [<matplotlib.lines.Line2D at 0x1cc4f1bb4c0>],\n",
       " 'medians': [<matplotlib.lines.Line2D at 0x1cc4f1d95e0>],\n",
       " 'fliers': [<matplotlib.lines.Line2D at 0x1cc4f1d9940>],\n",
       " 'means': []}"
      ]
     },
     "execution_count": 17,
     "metadata": {},
     "output_type": "execute_result"
    },
    {
     "data": {
      "image/png": "[encoded data removed]",
      "text/plain": [
       "<Figure size 432x288 with 1 Axes>"
      ]
     },
     "metadata": {
      "needs_background": "light"
     },
     "output_type": "display_data"
    }
   ],
   "source": [
    "#plot a box and whiskers to see price distributions\n",
    "prices = over_df['price']\n",
    "plt.boxplot(prices)"
   ]
  },
  {
   "cell_type": "code",
   "execution_count": 18,
   "id": "3c88be55",
   "metadata": {},
   "outputs": [
    {
     "data": {
      "text/plain": [
       "450.0"
      ]
     },
     "execution_count": 18,
     "metadata": {},
     "output_type": "execute_result"
    }
   ],
   "source": [
    "#lets get rid of the extreme outliers\n",
    "max_range = over_df['price'].quantile(.97)\n",
    "max_range"
   ]
  },
  {
   "cell_type": "code",
   "execution_count": 19,
   "id": "2ff8d8c3",
   "metadata": {},
   "outputs": [
    {
     "data": {
      "text/plain": [
       "(3306, 29)"
      ]
     },
     "execution_count": 19,
     "metadata": {},
     "output_type": "execute_result"
    }
   ],
   "source": [
    "over_df = over_df[over_df['price'] <= max_range]\n",
    "#only lost around 3% of the data when droppinng extreme outliers\n",
    "#the other outliers will be dealt with by using median as the statistic of interest\n",
    "over_df.shape"
   ]
  },
  {
   "cell_type": "markdown",
   "id": "702be08b",
   "metadata": {},
   "source": [
    "### 1. What is the relationship between Price and Utilization?"
   ]
  },
  {
   "cell_type": "code",
   "execution_count": 20,
   "id": "39610d5a",
   "metadata": {},
   "outputs": [],
   "source": [
    "#standardize price = Price/Max Price\n",
    "max_price = over_df['price'].max()\n",
    "\n",
    "over_df['std_price'] = over_df['price'].apply(lambda col: col/max_price)"
   ]
  },
  {
   "cell_type": "code",
   "execution_count": 21,
   "id": "f5a6808c",
   "metadata": {},
   "outputs": [],
   "source": [
    "group_df = over_df.groupby('neighbourhood_cleansed')[['std_price','utilization_365']].median().sort_values(by='std_price')"
   ]
  },
  {
   "cell_type": "code",
   "execution_count": 22,
   "id": "03314336",
   "metadata": {},
   "outputs": [
    {
     "data": {
      "text/plain": [
       "Text(0.5, 1.0, 'What is the Relationship Between Price and Utilization Rate?')"
      ]
     },
     "execution_count": 22,
     "metadata": {},
     "output_type": "execute_result"
    },
    {
     "data": {
      "image/png": "[encoded data removed]",
      "text/plain": [
       "<Figure size 432x288 with 1 Axes>"
      ]
     },
     "metadata": {
      "needs_background": "light"
     },
     "output_type": "display_data"
    }
   ],
   "source": [
    "group_df.columns = ['Standard Price','Utilization Rate']\n",
    "\n",
    "group_df.plot(kind='barh',color=['tomato','gray'])\n",
    "plt.xlabel('Percent of Max')\n",
    "plt.ylabel('')\n",
    "plt.title('What is the Relationship Between Price and Utilization Rate?')"
   ]
  },
  {
   "cell_type": "markdown",
   "id": "9c702984",
   "metadata": {},
   "source": [
    "### 2. What are the top 10 neighbourhoods with the highest median projected revenue?"
   ]
  },
  {
   "cell_type": "code",
   "execution_count": 23,
   "id": "98f9bd5c",
   "metadata": {},
   "outputs": [],
   "source": [
    "def plot_colors(df,sym,threshold):\n",
    "    \"\"\" Pass through the top 10 df and the threshold to output the colors and the emphasis on the plots.\n",
    "    df - dataframe\n",
    "    sym - input either '>' if greater or '<' if less than the threshold\n",
    "    threshold - top X percente to emphasize in the graph. Pass a decimal\"\"\"\n",
    "    \n",
    "    colors = []\n",
    "\n",
    "    for i in df:\n",
    "        if sym == '>':\n",
    "            if i/df.max() >= threshold:\n",
    "                colors.append('tomato')\n",
    "            else:\n",
    "                colors.append('lightsalmon')\n",
    "        elif sym == '<':\n",
    "            if i/df.max() <= threshold:\n",
    "                colors.append('tomato')\n",
    "            else:\n",
    "                colors.append('lightsalmon')\n",
    "            \n",
    "    return colors"
   ]
  },
  {
   "cell_type": "code",
   "execution_count": 27,
   "id": "8c94aba4",
   "metadata": {},
   "outputs": [
    {
     "data": {
      "text/plain": [
       "id\n",
       "12147973    91250.0\n",
       "3075044       390.0\n",
       "6976         2990.0\n",
       "1436513     20025.0\n",
       "7651065      2449.0\n",
       "Name: revenue_projection, dtype: float64"
      ]
     },
     "execution_count": 27,
     "metadata": {},
     "output_type": "execute_result"
    }
   ],
   "source": [
    "#Revenue Projection == (Price * 365) * Yearly Utilization Rate\n",
    "over_df['revenue_projection'] = (over_df['price']*365) * over_df['utilization_365']"
   ]
  },
  {
   "cell_type": "code",
   "execution_count": 28,
   "id": "67a7f23c",
   "metadata": {},
   "outputs": [],
   "source": [
    "#get top 10 neighborhoods with highest revenue projections\n",
    "top_10_rev = over_df.groupby('neighbourhood_cleansed')['revenue_projection'].median()\n",
    "top_10_rev = top_10_rev.sort_values(ascending=False).iloc[0:10]"
   ]
  },
  {
   "cell_type": "code",
   "execution_count": 29,
   "id": "fd6498a9",
   "metadata": {},
   "outputs": [
    {
     "data": {
      "text/plain": [
       "Text(0.5, 1.0, 'Top 10 Boston Neighbourhoods with the Highest Project Revenues on Airbnb')"
      ]
     },
     "execution_count": 29,
     "metadata": {},
     "output_type": "execute_result"
    },
    {
     "data": {
      "image/png": "[encoded data removed]",
      "text/plain": [
       "<Figure size 432x288 with 1 Axes>"
      ]
     },
     "metadata": {
      "needs_background": "light"
     },
     "output_type": "display_data"
    }
   ],
   "source": [
    "#add specific graph coloring to emphasize the highest projected revenue\n",
    "colors = plot_colors(top_10_rev,'>',.9)\n",
    "\n",
    "#Graph Edits\n",
    "top_10_rev.plot(kind='barh',legend=None,color=colors)\n",
    "plt.xlabel('Median Revenue in a Year')\n",
    "plt.ylabel('')\n",
    "plt.title('Top 10 Boston Neighbourhoods with the Highest Project Revenues on Airbnb')"
   ]
  },
  {
   "cell_type": "markdown",
   "id": "964f1b0e",
   "metadata": {},
   "source": [
    "### 3. Which Neighborhoods Will Make Me My Money Back the Soonest?"
   ]
  },
  {
   "cell_type": "code",
   "execution_count": 35,
   "id": "a4ac737f",
   "metadata": {},
   "outputs": [],
   "source": [
    "#Median house prices from https://www.redfin.com/\n",
    "median_house_prices = {\n",
    "    'Leather District':979500,\n",
    "    'Fenway':1064500,\n",
    "    'Roslindale':699000,\n",
    "    'Dorchester':690000,\n",
    "    'West Roxbury':750000,\n",
    "    'Roxbury':739900,\n",
    "    'Mattapan':610000,\n",
    "    'Hyde Park':615000,\n",
    "    'Bay Village':2878750,\n",
    "    'East Boston':675000,\n",
    "    'Brighton':500000,\n",
    "    'Jamaica Plain':757500,\n",
    "    'Mission Hill':865000,\n",
    "    'Allston':539000,\n",
    "    'South Boston':825000,\n",
    "    'Longwood Medical Area':1200000,\n",
    "    'Charlestown':952500,\n",
    "    'North End':898000,\n",
    "    'West End':518375,\n",
    "    'Back Bay':1100000,\n",
    "    'Downtown':1125000,\n",
    "    'South End':1100100,\n",
    "    'Beacon Hill':1200000,\n",
    "    'Chinatown':1310000,\n",
    "    'South Boston Waterfront':1134000\n",
    "    }"
   ]
  },
  {
   "cell_type": "code",
   "execution_count": 317,
   "id": "51a0eb34",
   "metadata": {},
   "outputs": [],
   "source": [
    "#use the median house prices to calculate years for ROI\n",
    "#Years for ROI == Median House Price / Median Revenue Projection\n",
    "for nb,group in over_df.groupby('neighbourhood_cleansed'):\n",
    "    try:\n",
    "        price = median_house_prices[nb]\n",
    "        median_rev = group['revenue_projection'].median()\n",
    "        over_df.loc[group.index,'yrs_roi'] = price/median_rev\n",
    "    except:\n",
    "        pass"
   ]
  },
  {
   "cell_type": "code",
   "execution_count": 318,
   "id": "833b3008",
   "metadata": {},
   "outputs": [],
   "source": [
    "#get the top 10 neighborhoods with the lowest time for ROI\n",
    "roi_df = over_df.groupby('neighbourhood_cleansed')['yrs_roi'].mean()\n",
    "top_10_roi = roi_df.sort_values().iloc[0:10]"
   ]
  },
  {
   "cell_type": "code",
   "execution_count": 321,
   "id": "9d57c5d8",
   "metadata": {},
   "outputs": [
    {
     "data": {
      "text/plain": [
       "Text(0.5, 1.0, 'Top 10 Boston Neighbourhoods with the Shortest Time for ROI')"
      ]
     },
     "execution_count": 321,
     "metadata": {},
     "output_type": "execute_result"
    },
    {
     "data": {
      "image/png": "[encoded data removed]",
      "text/plain": [
       "<Figure size 432x288 with 1 Axes>"
      ]
     },
     "metadata": {
      "needs_background": "light"
     },
     "output_type": "display_data"
    }
   ],
   "source": [
    "colors = plot_colors(top_10_roi,'<',.85)\n",
    "\n",
    "top_10_roi.plot(kind='barh',legend=None,color=colors)\n",
    "plt.xlabel('Years for ROI')\n",
    "plt.ylabel('')\n",
    "plt.title('Top 10 Boston Neighbourhoods with the Shortest Time for ROI')"
   ]
  }
 ],
 "metadata": {
  "kernelspec": {
   "display_name": "Python 3",
   "language": "python",
   "name": "python3"
  },
  "language_info": {
   "codemirror_mode": {
    "name": "ipython",
    "version": 3
   },
   "file_extension": ".py",
   "mimetype": "text/x-python",
   "name": "python",
   "nbconvert_exporter": "python",
   "pygments_lexer": "ipython3",
   "version": "3.8.8"
  }
 },
 "nbformat": 4,
 "nbformat_minor": 5
}
