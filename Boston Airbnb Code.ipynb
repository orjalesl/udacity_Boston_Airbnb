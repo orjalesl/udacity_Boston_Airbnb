{
 "cells": [
  {
   "cell_type": "markdown",
   "id": "3be02cac",
   "metadata": {},
   "source": [
    "# Boston Airbnb"
   ]
  },
  {
   "cell_type": "markdown",
   "id": "d4a9810c",
   "metadata": {},
   "source": [
    "## Section 1: Business Understanding\n",
    "Using 2016 Airbnb data from the Boston area, I chose to explore metrics to help investors answer potential questions when comparing property locations. The data consists of 3306 Airbnb listings across 18 neighborhoods. The 3 questions I will be lookking into in this analysis are:"
   ]
  },
  {
   "cell_type": "markdown",
   "id": "a146b98c",
   "metadata": {},
   "source": [
    "#### Question 1: What is the Relationship Between Price and Utilization?\n",
    "#### Question 2: What are the Top 10 Neighborhoods with the Highest Median Projected Revenue?\n",
    "#### Question 3: Which Neighborhoods Will Make Me My Money Back the Soonest?"
   ]
  },
  {
   "cell_type": "code",
   "execution_count": 1,
   "id": "145321f1",
   "metadata": {},
   "outputs": [],
   "source": [
    "import pandas as pd\n",
    "import numpy as np\n",
    "import matplotlib.pyplot as plt"
   ]
  },
  {
   "cell_type": "markdown",
   "id": "6e046c44",
   "metadata": {},
   "source": [
    "_ _ _"
   ]
  },
  {
   "cell_type": "markdown",
   "id": "34df3c5e",
   "metadata": {},
   "source": [
    "## Section 2: Data Understanding\n",
    "\n",
    "### Gather\n",
    "We start by loading in the data. Data was collected from Kaggle - https://www.kaggle.com/datasets/airbnb/boston"
   ]
  },
  {
   "cell_type": "code",
   "execution_count": 2,
   "id": "afce0181",
   "metadata": {},
   "outputs": [
    {
     "data": {
      "text/plain": [
       "(3585, 94)"
      ]
     },
     "execution_count": 2,
     "metadata": {},
     "output_type": "execute_result"
    }
   ],
   "source": [
    "file = 'listings.csv'\n",
    "df = pd.read_csv(file,index_col=0)\n",
    "df.shape"
   ]
  },
  {
   "cell_type": "markdown",
   "id": "fb255aea",
   "metadata": {},
   "source": [
    "_ _ _"
   ]
  },
  {
   "cell_type": "markdown",
   "id": "1725634d",
   "metadata": {},
   "source": [
    "## Section 3: Data Preperation\n",
    "### Cleaning Data\n",
    "For this analysis, we were interested in the relationship between location, price, and utilization; therefore, we select the columns of interest and excluded the other variables in the data set."
   ]
  },
  {
   "cell_type": "code",
   "execution_count": 3,
   "id": "9baba217",
   "metadata": {},
   "outputs": [],
   "source": [
    "#Limit to potential columns of interest\n",
    "df = df[['name','neighbourhood_cleansed','latitude','longitude','price','availability_30',\n",
    "         'availability_60','availability_90','availability_365']]"
   ]
  },
  {
   "cell_type": "code",
   "execution_count": 4,
   "id": "4b0df74e",
   "metadata": {},
   "outputs": [
    {
     "data": {
      "text/plain": [
       "name                      0.0\n",
       "neighbourhood_cleansed    0.0\n",
       "latitude                  0.0\n",
       "longitude                 0.0\n",
       "price                     0.0\n",
       "availability_30           0.0\n",
       "availability_60           0.0\n",
       "availability_90           0.0\n",
       "availability_365          0.0\n",
       "dtype: float64"
      ]
     },
     "execution_count": 4,
     "metadata": {},
     "output_type": "execute_result"
    }
   ],
   "source": [
    "#Note there are no missing values in the columns of interest\n",
    "df.isnull().mean()"
   ]
  },
  {
   "cell_type": "markdown",
   "id": "cbfc3024",
   "metadata": {},
   "source": [
    "_ _ _"
   ]
  },
  {
   "cell_type": "markdown",
   "id": "c5866606",
   "metadata": {},
   "source": [
    "The 'price' column is an object dtype, yet we need it to be a float dtype for this analysis. Below, I go through the steps on how I converted the column to a float."
   ]
  },
  {
   "cell_type": "code",
   "execution_count": 5,
   "id": "53e1dbde",
   "metadata": {},
   "outputs": [
    {
     "data": {
      "text/plain": [
       "name                       object\n",
       "neighbourhood_cleansed     object\n",
       "latitude                  float64\n",
       "longitude                 float64\n",
       "price                      object\n",
       "availability_30             int64\n",
       "availability_60             int64\n",
       "availability_90             int64\n",
       "availability_365            int64\n",
       "dtype: object"
      ]
     },
     "execution_count": 5,
     "metadata": {},
     "output_type": "execute_result"
    }
   ],
   "source": [
    "#Look at the data types in the dataset\n",
    "df.dtypes"
   ]
  },
  {
   "cell_type": "code",
   "execution_count": 6,
   "id": "519c1d87",
   "metadata": {},
   "outputs": [
    {
     "data": {
      "text/plain": [
       "id\n",
       "12147973    $250.00\n",
       "3075044      $65.00\n",
       "6976         $65.00\n",
       "1436513      $75.00\n",
       "7651065      $79.00\n",
       "Name: price, dtype: object"
      ]
     },
     "execution_count": 6,
     "metadata": {},
     "output_type": "execute_result"
    }
   ],
   "source": [
    "#notice that price is an object rather than a float\n",
    "df['price'].head()"
   ]
  },
  {
   "cell_type": "markdown",
   "id": "cbe78f4d",
   "metadata": {},
   "source": [
    "The price column is not a float due to the symbols that are being read in the column. For this, we created a simple function to remove the symbols in the cells and covert the output into a float."
   ]
  },
  {
   "cell_type": "code",
   "execution_count": 7,
   "id": "8a207178",
   "metadata": {},
   "outputs": [
    {
     "data": {
      "text/plain": [
       "id\n",
       "12147973    250.0\n",
       "3075044      65.0\n",
       "6976         65.0\n",
       "1436513      75.0\n",
       "7651065      79.0\n",
       "Name: price, dtype: float64"
      ]
     },
     "execution_count": 7,
     "metadata": {},
     "output_type": "execute_result"
    }
   ],
   "source": [
    "#remove the '$'' and the ',' from price\n",
    "def remove_sign(col):\n",
    "    \"\"\"Return the value from a column as a float\n",
    "    \n",
    "    Inputs\n",
    "        col: raw string series from the dataframe\n",
    "    \n",
    "    Returns\n",
    "        col: a float series without the symbols\"\"\"\n",
    "    \n",
    "    col = col.replace('$','')\n",
    "    col = col.replace(',','')\n",
    "    return float(col)\n",
    "\n",
    "df['price'] = df['price'].apply(remove_sign)\n",
    "df['price'].head()"
   ]
  },
  {
   "cell_type": "markdown",
   "id": "a95a6697",
   "metadata": {},
   "source": [
    "_ _ _"
   ]
  },
  {
   "cell_type": "markdown",
   "id": "501454bf",
   "metadata": {},
   "source": [
    "In this analysis, we were interested in the Utilization Rate of each Airbnb listing. \n",
    "\n",
    "**Utilization Rate** == 1 - (Days Available/Days in Time Horizon)"
   ]
  },
  {
   "cell_type": "code",
   "execution_count": 8,
   "id": "fc0bbca3",
   "metadata": {},
   "outputs": [],
   "source": [
    "#standardizing availability and covert to Utilization Rate\n",
    "df['utilization_30'] = df['availability_30'].apply(lambda x: 1 - (x/30))\n",
    "df['utilization_60'] = df['availability_60'].apply(lambda x: 1 - (x/60))\n",
    "df['utilization_90'] = df['availability_90'].apply(lambda x: 1 - (x/90))\n",
    "df['utilization_365'] = df['availability_365'].apply(lambda x: 1 - (x/365))"
   ]
  },
  {
   "cell_type": "markdown",
   "id": "a66f9f1b",
   "metadata": {},
   "source": [
    "_ _ _"
   ]
  },
  {
   "cell_type": "markdown",
   "id": "63e43d82",
   "metadata": {},
   "source": [
    "For this analysis, we decided to filter out neighborhoods with less than 50 listings in the dataset to prevent skewed findings caused by smaller sample sizes.\n",
    "\n",
    "***Note:*** *changing the minimum count threshold will change the findings in this analysis.*"
   ]
  },
  {
   "cell_type": "code",
   "execution_count": 9,
   "id": "5e8a3d5f",
   "metadata": {},
   "outputs": [
    {
     "data": {
      "text/plain": [
       "Leather District             5\n",
       "Longwood Medical Area        9\n",
       "Bay Village                 24\n",
       "Mattapan                    24\n",
       "Hyde Park                   31\n",
       "West Roxbury                46\n",
       "West End                    49\n",
       "Roslindale                  56\n",
       "Chinatown                   71\n",
       "South Boston Waterfront     83\n",
       "Charlestown                111\n",
       "Mission Hill               124\n",
       "North End                  143\n",
       "Roxbury                    144\n",
       "East Boston                150\n",
       "Downtown                   172\n",
       "South Boston               174\n",
       "Brighton                   185\n",
       "Beacon Hill                194\n",
       "Allston                    260\n",
       "Dorchester                 269\n",
       "Fenway                     290\n",
       "Back Bay                   302\n",
       "South End                  326\n",
       "Jamaica Plain              343\n",
       "Name: neighbourhood_cleansed, dtype: int64"
      ]
     },
     "execution_count": 9,
     "metadata": {},
     "output_type": "execute_result"
    }
   ],
   "source": [
    "#how many Airbnbs listings are per neighborhood? Do we need to remove any that are too small of a sample?\n",
    "df['neighbourhood_cleansed'].value_counts().sort_values()"
   ]
  },
  {
   "cell_type": "code",
   "execution_count": 10,
   "id": "693ab126",
   "metadata": {},
   "outputs": [],
   "source": [
    "for nb, group in df.groupby('neighbourhood_cleansed'):\n",
    "    count = len(group)\n",
    "    df.loc[group.index,'count'] = count\n",
    "\n",
    "#For this analysis, I chose to only look at neighborhoods with atleast 50 listings.\n",
    "over_df = df[df['count'] >= 50]"
   ]
  },
  {
   "cell_type": "markdown",
   "id": "60270396",
   "metadata": {},
   "source": [
    "_ _ _"
   ]
  },
  {
   "cell_type": "markdown",
   "id": "2d16498b",
   "metadata": {},
   "source": [
    "We plotted the prices on a boxplot to see the distribution within the dataset. The outliers are represented by the circles on the graph. "
   ]
  },
  {
   "cell_type": "code",
   "execution_count": 11,
   "id": "104f40c5",
   "metadata": {},
   "outputs": [
    {
     "data": {
      "text/plain": [
       "{'whiskers': [<matplotlib.lines.Line2D at 0x1984cde3d00>,\n",
       "  <matplotlib.lines.Line2D at 0x1984cee20a0>],\n",
       " 'caps': [<matplotlib.lines.Line2D at 0x1984cee2400>,\n",
       "  <matplotlib.lines.Line2D at 0x1984cee2760>],\n",
       " 'boxes': [<matplotlib.lines.Line2D at 0x1984cde39a0>],\n",
       " 'medians': [<matplotlib.lines.Line2D at 0x1984cee2ac0>],\n",
       " 'fliers': [<matplotlib.lines.Line2D at 0x1984cee2e20>],\n",
       " 'means': []}"
      ]
     },
     "execution_count": 11,
     "metadata": {},
     "output_type": "execute_result"
    },
    {
     "data": {
      "image/png": "[encoded data removed]",
      "text/plain": [
       "<Figure size 432x288 with 1 Axes>"
      ]
     },
     "metadata": {
      "needs_background": "light"
     },
     "output_type": "display_data"
    }
   ],
   "source": [
    "#plot a box and whiskers to see price distributions\n",
    "prices = over_df['price']\n",
    "plt.boxplot(prices)"
   ]
  },
  {
   "cell_type": "markdown",
   "id": "324aaf79",
   "metadata": {},
   "source": [
    "The boxplot shows there are many outliers in the dataset. We decided to remove the top 3% of the prices to remove extreme outliers from the dataset. The remaining outliers will be used to standardize price per night and will be dealt with by using the median statistic in aggregation."
   ]
  },
  {
   "cell_type": "code",
   "execution_count": 12,
   "id": "f7ce1b90",
   "metadata": {},
   "outputs": [
    {
     "data": {
      "text/plain": [
       "4000.0"
      ]
     },
     "execution_count": 12,
     "metadata": {},
     "output_type": "execute_result"
    }
   ],
   "source": [
    "max_price = over_df['price'].max()\n",
    "max_price"
   ]
  },
  {
   "cell_type": "code",
   "execution_count": 13,
   "id": "1e489c3c",
   "metadata": {},
   "outputs": [
    {
     "data": {
      "text/plain": [
       "450.0"
      ]
     },
     "execution_count": 13,
     "metadata": {},
     "output_type": "execute_result"
    }
   ],
   "source": [
    "#lets get rid of the extreme outliers\n",
    "max_range = over_df['price'].quantile(.97)\n",
    "max_range"
   ]
  },
  {
   "cell_type": "code",
   "execution_count": 14,
   "id": "209e96bb",
   "metadata": {},
   "outputs": [
    {
     "data": {
      "text/plain": [
       "(3397, 14)"
      ]
     },
     "execution_count": 14,
     "metadata": {},
     "output_type": "execute_result"
    }
   ],
   "source": [
    "over_df.shape"
   ]
  },
  {
   "cell_type": "markdown",
   "id": "84f552dd",
   "metadata": {},
   "source": [
    "After removing the listings in the top 3% of price, we see that the max price drops from 4000 a night to 450. We only lose 93 observations and the neighborhoods maintain a minimum count over 50."
   ]
  },
  {
   "cell_type": "code",
   "execution_count": 15,
   "id": "86ec1519",
   "metadata": {},
   "outputs": [
    {
     "data": {
      "text/plain": [
       "(3306, 14)"
      ]
     },
     "execution_count": 15,
     "metadata": {},
     "output_type": "execute_result"
    }
   ],
   "source": [
    "over_df = over_df[over_df['price'] <= max_range]\n",
    "#only lost around 3% of the data when droppinng extreme outliers\n",
    "#the other outliers will be dealt with by using median as the statistic of interest\n",
    "over_df.shape"
   ]
  },
  {
   "cell_type": "code",
   "execution_count": 16,
   "id": "4195c852",
   "metadata": {},
   "outputs": [
    {
     "data": {
      "text/plain": [
       "Roslindale                  56\n",
       "Chinatown                   71\n",
       "South Boston Waterfront     74\n",
       "Charlestown                106\n",
       "Mission Hill               123\n",
       "Roxbury                    140\n",
       "North End                  141\n",
       "East Boston                150\n",
       "South Boston               166\n",
       "Downtown                   169\n",
       "Beacon Hill                183\n",
       "Brighton                   183\n",
       "Allston                    257\n",
       "Dorchester                 269\n",
       "Fenway                     281\n",
       "Back Bay                   289\n",
       "South End                  314\n",
       "Jamaica Plain              334\n",
       "Name: neighbourhood_cleansed, dtype: int64"
      ]
     },
     "execution_count": 16,
     "metadata": {},
     "output_type": "execute_result"
    }
   ],
   "source": [
    "#Check to see if there are any neighborhoods with fewer than 50 listings\n",
    "over_df['neighbourhood_cleansed'].value_counts().sort_values()"
   ]
  },
  {
   "cell_type": "markdown",
   "id": "583d0512",
   "metadata": {},
   "source": [
    "_ _ _"
   ]
  },
  {
   "cell_type": "markdown",
   "id": "b64e1d92",
   "metadata": {},
   "source": [
    "To view the relationship between Price and Utilization, the first step we took was to create a new variable to standatdize price.\n",
    "\n",
    "**Standard Price** == Listing Price per Night / Max Price per Night in Dataset"
   ]
  },
  {
   "cell_type": "code",
   "execution_count": 17,
   "id": "1ac7ce2e",
   "metadata": {},
   "outputs": [
    {
     "data": {
      "text/plain": [
       "id\n",
       "12147973    0.555556\n",
       "3075044     0.144444\n",
       "6976        0.144444\n",
       "1436513     0.166667\n",
       "7651065     0.175556\n",
       "Name: std_price, dtype: float64"
      ]
     },
     "execution_count": 17,
     "metadata": {},
     "output_type": "execute_result"
    }
   ],
   "source": [
    "#standardize price = Price/Max Price\n",
    "max_price = over_df['price'].max()\n",
    "over_df['std_price'] = over_df['price'].apply(lambda col: col/max_price)\n",
    "over_df['std_price'].head()"
   ]
  },
  {
   "cell_type": "markdown",
   "id": "eb45b591",
   "metadata": {},
   "source": [
    "_ _ _"
   ]
  },
  {
   "cell_type": "markdown",
   "id": "6cbee221",
   "metadata": {},
   "source": [
    "We are also interested in the yearly projected revenue for our analysis. \n",
    "\n",
    "**Revenue Projection** ==  Price per Night * 365 * Yearly Utilization Rate"
   ]
  },
  {
   "cell_type": "code",
   "execution_count": 18,
   "id": "e9b24f0a",
   "metadata": {},
   "outputs": [],
   "source": [
    "#Revenue Projection == (Price * 365) * Yearly Utilization Rate\n",
    "over_df['revenue_projection'] = (over_df['price']*365) * over_df['utilization_365']"
   ]
  },
  {
   "cell_type": "markdown",
   "id": "e847195c",
   "metadata": {},
   "source": [
    "_ _ _"
   ]
  },
  {
   "cell_type": "markdown",
   "id": "08756763",
   "metadata": {},
   "source": [
    "\n",
    "## Neighborhood Analysis\n",
    "\n",
    "### Visualize\n",
    "Lets compare neighbourhoods using some metrics from the dataset and the metrics we have created above."
   ]
  },
  {
   "cell_type": "markdown",
   "id": "702be08b",
   "metadata": {},
   "source": [
    "### 1. What is the Relationship Between Price and Utilization?\n",
    "To address this question, we built a horizontal bar chart to compare the standardized Price per Night and Yeraly Utilization Rate by each neighborhood."
   ]
  },
  {
   "cell_type": "code",
   "execution_count": 19,
   "id": "f5a6808c",
   "metadata": {},
   "outputs": [],
   "source": [
    "group_df = over_df.groupby('neighbourhood_cleansed')[['std_price','utilization_365']].median().sort_values(by='std_price')"
   ]
  },
  {
   "cell_type": "code",
   "execution_count": 20,
   "id": "03314336",
   "metadata": {},
   "outputs": [
    {
     "data": {
      "text/plain": [
       "Text(0.5, 1.0, 'What is the Relationship Between Price and Utilization Rate?')"
      ]
     },
     "execution_count": 20,
     "metadata": {},
     "output_type": "execute_result"
    },
    {
     "data": {
      "image/png": "[encoded data removed]",
      "text/plain": [
       "<Figure size 432x288 with 1 Axes>"
      ]
     },
     "metadata": {
      "needs_background": "light"
     },
     "output_type": "display_data"
    }
   ],
   "source": [
    "group_df.columns = ['Median Std Price','Utilization Rate']\n",
    "\n",
    "group_df.plot(kind='barh',color=['tomato','gray'])\n",
    "plt.xlabel('Percent of Max')\n",
    "plt.ylabel('')\n",
    "plt.title('What is the Relationship Between Price and Utilization Rate?')"
   ]
  },
  {
   "cell_type": "markdown",
   "id": "8ad56604",
   "metadata": {},
   "source": [
    "**Analysis:** When sorting the data by the median standardized price by each neighborhood, we can see there is no clear relationship between the two metrics.\n",
    "\n",
    "*So what is more important, Price per Night or Utilization?*"
   ]
  },
  {
   "cell_type": "markdown",
   "id": "e007e1c1",
   "metadata": {},
   "source": [
    "_ _ _"
   ]
  },
  {
   "cell_type": "markdown",
   "id": "9c702984",
   "metadata": {},
   "source": [
    "### 2. What are the Neighborhoods with the Highest Median Projected Revenue?\n",
    "We built a horizontal bar chart to compare the top 10 nieghborhoods with the highest median projected revenue. This would give us a better picture of the harmony between the Price per Night and Utilization Rate."
   ]
  },
  {
   "cell_type": "code",
   "execution_count": 21,
   "id": "98f9bd5c",
   "metadata": {},
   "outputs": [],
   "source": [
    "def plot_colors(df,sym,threshold):\n",
    "    \"\"\" Returns color outputs based of the threshold input by the user to emphasis the plots.\n",
    "    \n",
    "    Inputs\n",
    "        df: dataframe\n",
    "        sym: input either '>' if greater or '<' if less than the threshold\n",
    "        threshold: top X percente to emphasize in the graph. Pass a decimal\n",
    "    \n",
    "    Output\n",
    "        colors: list of colors to be passed to the plot parameter\"\"\"\n",
    "    \n",
    "    colors = []\n",
    "\n",
    "    for i in df:\n",
    "        if sym == '>':\n",
    "            if i/df.max() >= threshold:\n",
    "                colors.append('tomato')\n",
    "            else:\n",
    "                colors.append('lightsalmon')\n",
    "        elif sym == '<':\n",
    "            if i/df.max() <= threshold:\n",
    "                colors.append('tomato')\n",
    "            else:\n",
    "                colors.append('lightsalmon')\n",
    "            \n",
    "    return colors"
   ]
  },
  {
   "cell_type": "code",
   "execution_count": 22,
   "id": "67a7f23c",
   "metadata": {},
   "outputs": [],
   "source": [
    "#get top 10 neighborhoods with highest revenue projections\n",
    "top_10_rev = over_df.groupby('neighbourhood_cleansed')['revenue_projection'].median()\n",
    "top_10_rev = top_10_rev.sort_values(ascending=False).iloc[0:10]"
   ]
  },
  {
   "cell_type": "code",
   "execution_count": 23,
   "id": "fd6498a9",
   "metadata": {},
   "outputs": [
    {
     "data": {
      "text/plain": [
       "Text(0.5, 1.0, 'Top 10 Boston Neighbourhoods with the Highest Project Revenues on Airbnb')"
      ]
     },
     "execution_count": 23,
     "metadata": {},
     "output_type": "execute_result"
    },
    {
     "data": {
      "image/png": "[encoded data removed]",
      "text/plain": [
       "<Figure size 432x288 with 1 Axes>"
      ]
     },
     "metadata": {
      "needs_background": "light"
     },
     "output_type": "display_data"
    }
   ],
   "source": [
    "#add specific graph coloring to emphasize the highest projected revenue\n",
    "colors = plot_colors(top_10_rev,'>',.9)\n",
    "\n",
    "#Graph Edits\n",
    "top_10_rev.plot(kind='barh',legend=None,color=colors)\n",
    "plt.xlabel('Median Revenue in a Year')\n",
    "plt.ylabel('')\n",
    "plt.title('Top 10 Boston Neighbourhoods with the Highest Project Revenues on Airbnb')"
   ]
  },
  {
   "cell_type": "markdown",
   "id": "58e18130",
   "metadata": {},
   "source": [
    "**Analysis:** When comparing the neighborhoods with this metric, we clearly see that **South Boston Waterfront** provides the highest projected revenue given its high pricing and high utilization rate."
   ]
  },
  {
   "cell_type": "markdown",
   "id": "d3194bfe",
   "metadata": {},
   "source": [
    "_ _ _"
   ]
  },
  {
   "cell_type": "markdown",
   "id": "964f1b0e",
   "metadata": {},
   "source": [
    "### 3. Which Neighborhoods Will Make Me My Money Back the Soonest?"
   ]
  },
  {
   "cell_type": "markdown",
   "id": "fe84c4b6",
   "metadata": {},
   "source": [
    "Not everyone has the luxury of buying million dollar homes, so we explored which neighborhoods in the dataset would offer an ROI in the shortest amount of time.\n",
    "\n",
    "We used Redfin's **Market Insights tool** to collect the **median house prices** per neighborhood in the dataset.\n",
    "\n",
    "***Source:*** https://www.redfin.com/"
   ]
  },
  {
   "cell_type": "code",
   "execution_count": 24,
   "id": "a4ac737f",
   "metadata": {},
   "outputs": [],
   "source": [
    "#Median house prices per neighborhood\n",
    "median_house_prices = {\n",
    "    'Leather District':979500,\n",
    "    'Fenway':1064500,\n",
    "    'Roslindale':699000,\n",
    "    'Dorchester':690000,\n",
    "    'West Roxbury':750000,\n",
    "    'Roxbury':739900,\n",
    "    'Mattapan':610000,\n",
    "    'Hyde Park':615000,\n",
    "    'Bay Village':2878750,\n",
    "    'East Boston':675000,\n",
    "    'Brighton':500000,\n",
    "    'Jamaica Plain':757500,\n",
    "    'Mission Hill':865000,\n",
    "    'Allston':539000,\n",
    "    'South Boston':825000,\n",
    "    'Longwood Medical Area':1200000,\n",
    "    'Charlestown':952500,\n",
    "    'North End':898000,\n",
    "    'West End':518375,\n",
    "    'Back Bay':1100000,\n",
    "    'Downtown':1125000,\n",
    "    'South End':1100100,\n",
    "    'Beacon Hill':1200000,\n",
    "    'Chinatown':1310000,\n",
    "    'South Boston Waterfront':1134000\n",
    "    }"
   ]
  },
  {
   "cell_type": "markdown",
   "id": "cea8d06f",
   "metadata": {},
   "source": [
    "We created the Years ROI metric to calculate how many years it would take to pay off the median house price given the median projected revenue by each neighborhood respectively.\n",
    "\n",
    "***Note:*** *This assumes present dollar value and a straight line revenue growth.*\n",
    "\n",
    "**Years ROI** == Median House Price / Median Revenue Projection"
   ]
  },
  {
   "cell_type": "code",
   "execution_count": 25,
   "id": "51a0eb34",
   "metadata": {},
   "outputs": [],
   "source": [
    "#use the median house prices to calculate years for ROI\n",
    "for nb,group in over_df.groupby('neighbourhood_cleansed'):\n",
    "    try:\n",
    "        price = median_house_prices[nb] #median price of the house from the dictionary\n",
    "        median_rev = group['revenue_projection'].median() #calculate the median of revenue projection for the group\n",
    "        over_df.loc[group.index,'yrs_roi'] = price/median_rev\n",
    "    except:\n",
    "        pass"
   ]
  },
  {
   "cell_type": "code",
   "execution_count": 26,
   "id": "833b3008",
   "metadata": {},
   "outputs": [],
   "source": [
    "#get the top 10 neighborhoods with the lowest time for ROI\n",
    "roi_df = over_df.groupby('neighbourhood_cleansed')['yrs_roi'].mean()\n",
    "top_10_roi = roi_df.sort_values().iloc[0:10]"
   ]
  },
  {
   "cell_type": "code",
   "execution_count": 27,
   "id": "9d57c5d8",
   "metadata": {},
   "outputs": [
    {
     "data": {
      "text/plain": [
       "Text(0.5, 1.0, 'Top 10 Boston Neighbourhoods with the Shortest Time for ROI')"
      ]
     },
     "execution_count": 27,
     "metadata": {},
     "output_type": "execute_result"
    },
    {
     "data": {
      "image/png": "[encoded data removed]",
      "text/plain": [
       "<Figure size 432x288 with 1 Axes>"
      ]
     },
     "metadata": {
      "needs_background": "light"
     },
     "output_type": "display_data"
    }
   ],
   "source": [
    "colors = plot_colors(top_10_roi,'<',.85)\n",
    "\n",
    "top_10_roi.plot(kind='barh',legend=None,color=colors)\n",
    "plt.xlabel('Years for ROI')\n",
    "plt.ylabel('')\n",
    "plt.title('Top 10 Boston Neighbourhoods with the Shortest Time for ROI')"
   ]
  },
  {
   "cell_type": "markdown",
   "id": "e53b3ab1",
   "metadata": {},
   "source": [
    "**Analysis:** When comparing the median revenue in a year to the median house prices for each neighborhood respectively, we see how many years it would take to recover all the money invested into the property. This assumes present dollar value and a straight line revenue growth.\n",
    "The top 4 neighborhoods show us 2 different types of investments.\n",
    "1. **South Boston Waterfront** and **Fenway** are both neighborhoods with a median home price of **1.13 and 1.06 million**\n",
    "2. **Allston** and **Brighton** are neighborhoods with median home prices of **539K and 500K**; yet Allston, Fenway, and Brighton are all relatively close in years till ROI.\n",
    "\n",
    "Depending on the investor, this metric shows how even properties valued at a lower market value an be valuable and payed off in the same amount of time when compared to other, more expensive properties."
   ]
  }
 ],
 "metadata": {
  "kernelspec": {
   "display_name": "Python 3",
   "language": "python",
   "name": "python3"
  },
  "language_info": {
   "codemirror_mode": {
    "name": "ipython",
    "version": 3
   },
   "file_extension": ".py",
   "mimetype": "text/x-python",
   "name": "python",
   "nbconvert_exporter": "python",
   "pygments_lexer": "ipython3",
   "version": "3.8.8"
  }
 },
 "nbformat": 4,
 "nbformat_minor": 5
}
