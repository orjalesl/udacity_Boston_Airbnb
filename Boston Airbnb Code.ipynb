{
 "cells": [
  {
   "cell_type": "markdown",
   "id": "3be02cac",
   "metadata": {},
   "source": [
    "# Boston Airbnb\n",
    "Using 2016 Airbnb data from the Boston area, I chose to explore metrics to help investors answer potential questions when comparing property locations. The data consists of 3306 Airbnb listings across 18 neighborhoods."
   ]
  },
  {
   "cell_type": "code",
   "execution_count": null,
   "id": "145321f1",
   "metadata": {},
   "outputs": [],
   "source": [
    "import pandas as pd\n",
    "import numpy as np\n",
    "import matplotlib.pyplot as plt\n",
    "\n",
    "file = 'listings.csv'\n",
    "\n",
    "original_df = pd.read_csv(file,index_col=0)\n",
    "\n",
    "#Limit to potential columns of interest\n",
    "df = original_df[['name','summary','description','transit','neighbourhood_cleansed','zipcode',\n",
    "         'latitude','longitude','room_type','accommodates','bathrooms',\t'bedrooms','beds',\n",
    "         'amenities','price','guests_included','availability_30',\t\n",
    "         'availability_60','availability_90','availability_365','number_of_reviews',\n",
    "         'first_review','review_scores_rating','reviews_per_month']]"
   ]
  },
  {
   "cell_type": "code",
   "execution_count": null,
   "id": "41c1c516",
   "metadata": {},
   "outputs": [],
   "source": [
    "### Dealing with NAN ###\n",
    "df.isnull().mean()"
   ]
  },
  {
   "cell_type": "markdown",
   "id": "1725634d",
   "metadata": {},
   "source": [
    "## Cleaning Data\n",
    "Lets standardize the availaiblity columns and convert them to be Utilization Rate"
   ]
  },
  {
   "cell_type": "code",
   "execution_count": null,
   "id": "53e1dbde",
   "metadata": {},
   "outputs": [],
   "source": [
    "#Look at the data types in the dataset\n",
    "df.dtypes"
   ]
  },
  {
   "cell_type": "code",
   "execution_count": null,
   "id": "519c1d87",
   "metadata": {},
   "outputs": [],
   "source": [
    "#notice that price is an object rather than a float\n",
    "df['price'].head()"
   ]
  },
  {
   "cell_type": "code",
   "execution_count": null,
   "id": "8a207178",
   "metadata": {},
   "outputs": [],
   "source": [
    "#remove the '$'' and the ',' price\n",
    "def remove_sign(col):\n",
    "    col = col.replace('$','')\n",
    "    col = col.replace(',','')\n",
    "    return float(col)\n",
    "\n",
    "df['price'] = df['price'].apply(remove_sign)\n",
    "df['price'].head()"
   ]
  },
  {
   "cell_type": "code",
   "execution_count": null,
   "id": "fc0bbca3",
   "metadata": {},
   "outputs": [],
   "source": [
    "#standardizing availability and covert to Utilization Rate\n",
    "df['utilization_30'] = df['availability_30'].apply(lambda x: 1 - (x/30))\n",
    "df['utilization_60'] = df['availability_60'].apply(lambda x: 1 - (x/60))\n",
    "df['utilization_90'] = df['availability_90'].apply(lambda x: 1 - (x/90))\n",
    "df['utilization_365'] = df['availability_365'].apply(lambda x: 1 - (x/365))"
   ]
  },
  {
   "cell_type": "code",
   "execution_count": null,
   "id": "5e8a3d5f",
   "metadata": {},
   "outputs": [],
   "source": [
    "#how many Airbnbs listings are per neighborhood? Do we need to remove any that are too small of a sample?\n",
    "df['neighbourhood_cleansed'].value_counts().sort_values()"
   ]
  },
  {
   "cell_type": "code",
   "execution_count": null,
   "id": "693ab126",
   "metadata": {},
   "outputs": [],
   "source": [
    "for nb, group in df.groupby('neighbourhood_cleansed'):\n",
    "    count = len(group)\n",
    "    df.loc[group.index,'count'] = count\n",
    "    \n",
    "#Filter out based off your own sample threshold. Original df has 3565 observations\n",
    "#For this analysis, I chose to only look at neighborhoods with atleast 50 listings.\n",
    "over_df = df[df['count'] >= 50] #input the minimum sample size"
   ]
  },
  {
   "cell_type": "code",
   "execution_count": null,
   "id": "104f40c5",
   "metadata": {},
   "outputs": [],
   "source": [
    "#plot a box and whiskers to see price distributions\n",
    "prices = over_df['price']\n",
    "plt.boxplot(prices)"
   ]
  },
  {
   "cell_type": "code",
   "execution_count": null,
   "id": "1e489c3c",
   "metadata": {},
   "outputs": [],
   "source": [
    "#lets get rid of the extreme outliers\n",
    "max_range = over_df['price'].quantile(.97)\n",
    "max_range"
   ]
  },
  {
   "cell_type": "code",
   "execution_count": null,
   "id": "86ec1519",
   "metadata": {},
   "outputs": [],
   "source": [
    "over_df = over_df[over_df['price'] <= max_range]\n",
    "#only lost around 3% of the data when droppinng extreme outliers\n",
    "#the other outliers will be dealt with by using median as the statistic of interest\n",
    "over_df.shape"
   ]
  },
  {
   "cell_type": "markdown",
   "id": "08756763",
   "metadata": {},
   "source": [
    "\n",
    "## Neighbourhood Analysis\n",
    "Lets compare neighbourhoods using some metrics from the dataset"
   ]
  },
  {
   "cell_type": "markdown",
   "id": "702be08b",
   "metadata": {},
   "source": [
    "### 1. What is the Relationship Between Price and Utilization?"
   ]
  },
  {
   "cell_type": "code",
   "execution_count": null,
   "id": "39610d5a",
   "metadata": {},
   "outputs": [],
   "source": [
    "#standardize price = Price/Max Price\n",
    "max_price = over_df['price'].max()\n",
    "\n",
    "over_df['std_price'] = over_df['price'].apply(lambda col: col/max_price)"
   ]
  },
  {
   "cell_type": "code",
   "execution_count": null,
   "id": "f5a6808c",
   "metadata": {},
   "outputs": [],
   "source": [
    "group_df = over_df.groupby('neighbourhood_cleansed')[['std_price','utilization_365']].median().sort_values(by='std_price')"
   ]
  },
  {
   "cell_type": "code",
   "execution_count": null,
   "id": "03314336",
   "metadata": {},
   "outputs": [],
   "source": [
    "group_df.columns = ['Median Price','Utilization Rate']\n",
    "\n",
    "group_df.plot(kind='barh',color=['tomato','gray'])\n",
    "plt.xlabel('Percent of Max')\n",
    "plt.ylabel('')\n",
    "plt.title('What is the Relationship Between Price and Utilization Rate?')"
   ]
  },
  {
   "cell_type": "markdown",
   "id": "9c702984",
   "metadata": {},
   "source": [
    "### 2. What are the top 10 neighbourhoods with the highest median projected revenue?"
   ]
  },
  {
   "cell_type": "code",
   "execution_count": null,
   "id": "98f9bd5c",
   "metadata": {},
   "outputs": [],
   "source": [
    "def plot_colors(df,sym,threshold):\n",
    "    \"\"\" Pass through the top 10 df and the threshold to output the colors and the emphasis on the plots.\n",
    "    df - dataframe\n",
    "    sym - input either '>' if greater or '<' if less than the threshold\n",
    "    threshold - top X percente to emphasize in the graph. Pass a decimal\"\"\"\n",
    "    \n",
    "    colors = []\n",
    "\n",
    "    for i in df:\n",
    "        if sym == '>':\n",
    "            if i/df.max() >= threshold:\n",
    "                colors.append('tomato')\n",
    "            else:\n",
    "                colors.append('lightsalmon')\n",
    "        elif sym == '<':\n",
    "            if i/df.max() <= threshold:\n",
    "                colors.append('tomato')\n",
    "            else:\n",
    "                colors.append('lightsalmon')\n",
    "            \n",
    "    return colors"
   ]
  },
  {
   "cell_type": "code",
   "execution_count": null,
   "id": "8c94aba4",
   "metadata": {},
   "outputs": [],
   "source": [
    "#Revenue Projection == (Price * 365) * Yearly Utilization Rate\n",
    "over_df['revenue_projection'] = (over_df['price']*365) * over_df['utilization_365']"
   ]
  },
  {
   "cell_type": "code",
   "execution_count": null,
   "id": "67a7f23c",
   "metadata": {},
   "outputs": [],
   "source": [
    "#get top 10 neighborhoods with highest revenue projections\n",
    "top_10_rev = over_df.groupby('neighbourhood_cleansed')['revenue_projection'].median()\n",
    "top_10_rev = top_10_rev.sort_values(ascending=False).iloc[0:10]"
   ]
  },
  {
   "cell_type": "code",
   "execution_count": null,
   "id": "fd6498a9",
   "metadata": {},
   "outputs": [],
   "source": [
    "#add specific graph coloring to emphasize the highest projected revenue\n",
    "colors = plot_colors(top_10_rev,'>',.9)\n",
    "\n",
    "#Graph Edits\n",
    "top_10_rev.plot(kind='barh',legend=None,color=colors)\n",
    "plt.xlabel('Median Revenue in a Year')\n",
    "plt.ylabel('')\n",
    "plt.title('Top 10 Boston Neighbourhoods with the Highest Project Revenues on Airbnb')"
   ]
  },
  {
   "cell_type": "markdown",
   "id": "964f1b0e",
   "metadata": {},
   "source": [
    "### 3. Which Neighborhoods Will Make Me My Money Back the Soonest?"
   ]
  },
  {
   "cell_type": "code",
   "execution_count": null,
   "id": "a4ac737f",
   "metadata": {},
   "outputs": [],
   "source": [
    "#Median house prices from https://www.redfin.com/\n",
    "median_house_prices = {\n",
    "    'Leather District':979500,\n",
    "    'Fenway':1064500,\n",
    "    'Roslindale':699000,\n",
    "    'Dorchester':690000,\n",
    "    'West Roxbury':750000,\n",
    "    'Roxbury':739900,\n",
    "    'Mattapan':610000,\n",
    "    'Hyde Park':615000,\n",
    "    'Bay Village':2878750,\n",
    "    'East Boston':675000,\n",
    "    'Brighton':500000,\n",
    "    'Jamaica Plain':757500,\n",
    "    'Mission Hill':865000,\n",
    "    'Allston':539000,\n",
    "    'South Boston':825000,\n",
    "    'Longwood Medical Area':1200000,\n",
    "    'Charlestown':952500,\n",
    "    'North End':898000,\n",
    "    'West End':518375,\n",
    "    'Back Bay':1100000,\n",
    "    'Downtown':1125000,\n",
    "    'South End':1100100,\n",
    "    'Beacon Hill':1200000,\n",
    "    'Chinatown':1310000,\n",
    "    'South Boston Waterfront':1134000\n",
    "    }"
   ]
  },
  {
   "cell_type": "code",
   "execution_count": null,
   "id": "51a0eb34",
   "metadata": {},
   "outputs": [],
   "source": [
    "#use the median house prices to calculate years for ROI\n",
    "#Years for ROI == Median House Price / Median Revenue Projection\n",
    "for nb,group in over_df.groupby('neighbourhood_cleansed'):\n",
    "    try:\n",
    "        price = median_house_prices[nb]\n",
    "        median_rev = group['revenue_projection'].median()\n",
    "        over_df.loc[group.index,'yrs_roi'] = price/median_rev\n",
    "    except:\n",
    "        pass"
   ]
  },
  {
   "cell_type": "code",
   "execution_count": null,
   "id": "833b3008",
   "metadata": {},
   "outputs": [],
   "source": [
    "#get the top 10 neighborhoods with the lowest time for ROI\n",
    "roi_df = over_df.groupby('neighbourhood_cleansed')['yrs_roi'].mean()\n",
    "top_10_roi = roi_df.sort_values().iloc[0:10]"
   ]
  },
  {
   "cell_type": "code",
   "execution_count": null,
   "id": "9d57c5d8",
   "metadata": {},
   "outputs": [],
   "source": [
    "colors = plot_colors(top_10_roi,'<',.85)\n",
    "\n",
    "top_10_roi.plot(kind='barh',legend=None,color=colors)\n",
    "plt.xlabel('Years for ROI')\n",
    "plt.ylabel('')\n",
    "plt.title('Top 10 Boston Neighbourhoods with the Shortest Time for ROI')"
   ]
  }
 ],
 "metadata": {
  "kernelspec": {
   "display_name": "Python 3",
   "language": "python",
   "name": "python3"
  },
  "language_info": {
   "codemirror_mode": {
    "name": "ipython",
    "version": 3
   },
   "file_extension": ".py",
   "mimetype": "text/x-python",
   "name": "python",
   "nbconvert_exporter": "python",
   "pygments_lexer": "ipython3",
   "version": "3.8.8"
  }
 },
 "nbformat": 4,
 "nbformat_minor": 5
}
